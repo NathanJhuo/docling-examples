{
 "cells": [
  {
   "cell_type": "markdown",
   "id": "573a7fbd-3b1a-4520-bcf0-916c1015ffca",
   "metadata": {},
   "source": [
    "# 批次文件轉換 (Batch Conversion)\n",
    "\n",
    "在前一節中，你已經學會如何用 Docling Python 函式庫程式化地轉換單一 PDF 檔案。\n",
    "在實務案例中，通常需要一次轉換多個文件。Docling 提供了一個方便的方法：\n",
    "`DocumentConverter` 類別中的 `convert_all` 方法，可以批次處理多個文件。\n",
    "\n",
    "此方法會接收一個指向多個檔案的 `Path` 物件列表，並允許你控制錯誤處理、頁面大小等選項。\n"
   ]
  },
  {
   "cell_type": "markdown",
   "id": "0154734d-60f2-4f93-9bcb-858c496951ac",
   "metadata": {},
   "source": [
    "## 先決條件 (Pre-requisites)\n",
    "\n",
    "- 已安裝 Docling Python 函式庫（建議於虛擬環境中使用 pip 安裝）\n",
    "- Git CLI（用來從 GitHub 下載範例檔案）\n",
    "- Visual Studio Code 或其他編輯器（用於查看與編輯程式碼）\n"
   ]
  },
  {
   "cell_type": "code",
   "execution_count": 1,
   "id": "01d3975f-7294-446d-b868-2f2b47236dc1",
   "metadata": {},
   "outputs": [
    {
     "name": "stdout",
     "output_type": "stream",
     "text": [
      "fatal: destination path 'genai-apps' already exists and is not an empty directory.\n"
     ]
    }
   ],
   "source": [
    "# 下載範例資料與程式碼\n",
    "!git clone https://github.com/RedHatQuickCourses/genai-apps.git\n"
   ]
  },
  {
   "cell_type": "code",
   "execution_count": 2,
   "id": "deb6f89b-0114-4ff1-99fd-3767c17cbdb7",
   "metadata": {},
   "outputs": [
    {
     "name": "stdout",
     "output_type": "stream",
     "text": [
      "/work/genai-apps/dataprep\n"
     ]
    }
   ],
   "source": [
    "# 切換到包含範例資料的資料夾\n",
    "%cd genai-apps/dataprep\n"
   ]
  },
  {
   "cell_type": "markdown",
   "id": "cafbf117-3bfa-407e-9474-e3701fda0564",
   "metadata": {},
   "source": [
    "## 批次轉換程式說明\n",
    "\n",
    "在 `batch-conversion.py` 中：\n",
    "- **輸入資料夾**：`sample-data/batch`\n",
    "- **輸出資料夾**：`/tmp/batch-converted`\n",
    "\n",
    "所有要轉換的 PDF 檔案放在輸入資料夾，轉換結果 (Markdown) 會輸出到 `/tmp/batch-converted`。\n"
   ]
  },
  {
   "cell_type": "code",
   "execution_count": 4,
   "id": "d2013c99-71f7-499d-a13e-07169e219775",
   "metadata": {},
   "outputs": [
    {
     "name": "stdout",
     "output_type": "stream",
     "text": [
      "找到 PDF 檔數量： 4\n",
      " - 2206.01062.pdf\n",
      " - redp5110_sampled.pdf\n",
      " - 2305.03393v1-pg9.pdf\n",
      " - 2203.01017v2.pdf\n"
     ]
    }
   ],
   "source": [
    "from pathlib import Path\n",
    "\n",
    "INPUT_DIR = Path(\"sample-data/batch\")\n",
    "OUTPUT_DIR = Path(\"/tmp/batch-converted\")\n",
    "OUTPUT_DIR.mkdir(parents=True, exist_ok=True)\n",
    "\n",
    "# 取得待轉換的 PDF 清單\n",
    "input_doc_paths = list(INPUT_DIR.glob(\"*.pdf\"))\n",
    "print(\"找到 PDF 檔數量：\", len(input_doc_paths))\n",
    "for p in input_doc_paths[:5]:\n",
    "    print(\" -\", p.name)\n"
   ]
  },
  {
   "cell_type": "markdown",
   "id": "b1be0611-4af6-4f5e-99fe-78767d75ea12",
   "metadata": {},
   "source": [
    "## 設定 PDF 處理選項\n",
    "\n",
    "Docling 針對 PDF 提供預設良好設定（`PdfPipelineOptions`）。  \n",
    "此處示範啟用「為每頁產生影像（於記憶體）」供後續流程使用。\n"
   ]
  },
  {
   "cell_type": "markdown",
   "id": "e4dc2bff-56ba-468c-ad77-5960ca6fd30a",
   "metadata": {},
   "source": [
    "```python\n",
    "from docling.pipeline.standard_pdf_pipeline import PdfPipelineOptions\n",
    "\n",
    "pipeline_options = PdfPipelineOptions()\n",
    "pipeline_options.generate_page_images = True\n"
   ]
  },
  {
   "cell_type": "markdown",
   "id": "19bc8e3e-53be-403b-a999-5dbe0c5afeb1",
   "metadata": {},
   "source": [
    "## 建立轉換器（DocumentConverter）\n",
    "\n",
    "這裡不手動指定 backend，使用 Docling 的預設（相容性較佳）。  \n",
    "若需要自訂 backend，可在 `PdfFormatOption` 中加入 `backend=...`。\n"
   ]
  },
  {
   "cell_type": "markdown",
   "id": "d29e3b2a-e8bd-4ec7-a414-eb2b1f4c3224",
   "metadata": {},
   "source": [
    "```python\n",
    "from docling.document_converter import DocumentConverter, InputFormat, PdfFormatOption\n",
    "\n",
    "doc_converter = DocumentConverter(\n",
    "    format_options={\n",
    "        InputFormat.PDF: PdfFormatOption(\n",
    "            pipeline_options=pipeline_options\n",
    "        )\n",
    "    }\n",
    ")\n",
    "doc_converter\n"
   ]
  },
  {
   "cell_type": "markdown",
   "id": "d4a1a12e-fb71-46c1-b415-0c98a1bc41b7",
   "metadata": {},
   "source": [
    "## 批次轉換\n",
    "\n",
    "使用 `convert_all` 一次處理多個文件。  \n",
    "這裡設定 `raises_on_error=False`，代表遇到錯誤不會中止整個批次流程。\n"
   ]
  },
  {
   "cell_type": "markdown",
   "id": "a62292cc-6d70-4451-a6eb-99d8e4cf62c2",
   "metadata": {},
   "source": [
    "```python\n",
    "conv_results = doc_converter.convert_all(\n",
    "    input_doc_paths,\n",
    "    raises_on_error=False,   # 發生錯誤時不中斷整批\n",
    ")\n",
    "len(conv_results)\n"
   ]
  },
  {
   "cell_type": "markdown",
   "id": "a699129c-7647-4bf5-8d6f-b7913dd6b3e6",
   "metadata": {},
   "source": [
    "## 匯出為 Markdown\n",
    "\n",
    "將每一個 `DoclingDocument`（記憶體表示）輸出為 `.md` 檔。  \n",
    "可使用 VS Code 或其他 Markdown 工具預覽轉換結果。\n"
   ]
  },
  {
   "cell_type": "markdown",
   "id": "b45aebcd-cf57-40a0-878c-6e98c9776e1b",
   "metadata": {},
   "source": [
    "```python\n",
    "from docling.models.docling_document import ImageRefMode\n",
    "\n",
    "saved = []\n",
    "for conv_res in conv_results:\n",
    "    if conv_res.document is None:\n",
    "        # 例如該檔案轉換失敗或被略過\n",
    "        print(f\"[Skip] {conv_res.input_path.name}\")\n",
    "        continue\n",
    "\n",
    "    out_md = OUTPUT_DIR / f\"{conv_res.input_path.stem}.md\"\n",
    "    conv_res.document.save_as_markdown(out_md, image_mode=ImageRefMode.PLACEHOLDER)\n",
    "    saved.append(out_md)\n",
    "\n",
    "print(f\"完成輸出 {len(saved)} 個 Markdown 檔案。\")\n",
    "for p in saved[:5]:\n",
    "    print(\" -\", p)\n"
   ]
  },
  {
   "cell_type": "markdown",
   "id": "87fe7826-c2e1-4284-9d53-c95cef5cd244",
   "metadata": {},
   "source": [
    "## 檢視輸出結果\n",
    "\n",
    "在 `/tmp/batch-converted` 應能看到與輸入檔名相對應的 `.md` 檔。  \n",
    "開啟檢視標題、段落、表格是否正確轉換。\n"
   ]
  },
  {
   "cell_type": "markdown",
   "id": "78942e07-0d3c-4eb9-8542-58000ab58cbe",
   "metadata": {},
   "source": [
    "```python\n",
    "for p in sorted(OUTPUT_DIR.glob(\"*.md\"))[:10]:\n",
    "    print(p.name)\n",
    "print(\"總數：\", len(list(OUTPUT_DIR.glob(\"*.md\"))))\n"
   ]
  },
  {
   "cell_type": "markdown",
   "id": "8127ffa7-6bf3-4011-b883-f377756ed555",
   "metadata": {},
   "source": [
    "### 小提醒\n",
    "\n",
    "- 若 PDF 為掃描影像且需要 OCR，請確認系統/容器中已安裝對應 OCR 引擎（如 Tesseract/EasyOCR），並按需求在 Docling 流程中啟用。\n",
    "- 若不需要 OCR（PDF 本身有文字層），關閉 OCR 會更快更穩。\n",
    "- 批次處理大量檔案時，請留意記憶體使用量（在容器/VM 中可調整分配）。\n"
   ]
  },
  {
   "cell_type": "markdown",
   "id": "d311586b-6107-4b3a-b479-a325110f40d9",
   "metadata": {},
   "source": [
    "## 執行轉換程式\n",
    "\n",
    "在 Notebook 或終端中執行：\n"
   ]
  },
  {
   "cell_type": "code",
   "execution_count": 32,
   "id": "08d85fca-f222-4f9f-9595-8a23cdd508e9",
   "metadata": {},
   "outputs": [
    {
     "name": "stdout",
     "output_type": "stream",
     "text": [
      "Requirement already satisfied: torch in /usr/local/lib/python3.11/site-packages (2.8.0)\n",
      "Requirement already satisfied: torchvision in /usr/local/lib/python3.11/site-packages (0.23.0)\n",
      "Requirement already satisfied: torchaudio in /usr/local/lib/python3.11/site-packages (2.8.0)\n",
      "Requirement already satisfied: easyocr in /usr/local/lib/python3.11/site-packages (1.7.2)\n",
      "Requirement already satisfied: filelock in /usr/local/lib/python3.11/site-packages (from torch) (3.19.1)\n",
      "Requirement already satisfied: typing-extensions>=4.10.0 in /usr/local/lib/python3.11/site-packages (from torch) (4.15.0)\n",
      "Requirement already satisfied: sympy>=1.13.3 in /usr/local/lib/python3.11/site-packages (from torch) (1.14.0)\n",
      "Requirement already satisfied: networkx in /usr/local/lib/python3.11/site-packages (from torch) (3.5)\n",
      "Requirement already satisfied: jinja2 in /usr/local/lib/python3.11/site-packages (from torch) (3.1.6)\n",
      "Requirement already satisfied: fsspec in /usr/local/lib/python3.11/site-packages (from torch) (2025.9.0)\n",
      "Requirement already satisfied: numpy in /usr/local/lib/python3.11/site-packages (from torchvision) (2.2.6)\n",
      "Requirement already satisfied: pillow!=8.3.*,>=5.3.0 in /usr/local/lib/python3.11/site-packages (from torchvision) (11.3.0)\n",
      "Requirement already satisfied: opencv-python-headless in /usr/local/lib/python3.11/site-packages (from easyocr) (4.12.0.88)\n",
      "Requirement already satisfied: scipy in /usr/local/lib/python3.11/site-packages (from easyocr) (1.16.2)\n",
      "Requirement already satisfied: scikit-image in /usr/local/lib/python3.11/site-packages (from easyocr) (0.25.2)\n",
      "Requirement already satisfied: python-bidi in /usr/local/lib/python3.11/site-packages (from easyocr) (0.6.6)\n",
      "Requirement already satisfied: PyYAML in /usr/local/lib/python3.11/site-packages (from easyocr) (6.0.3)\n",
      "Requirement already satisfied: Shapely in /usr/local/lib/python3.11/site-packages (from easyocr) (2.1.2)\n",
      "Requirement already satisfied: pyclipper in /usr/local/lib/python3.11/site-packages (from easyocr) (1.3.0.post6)\n",
      "Requirement already satisfied: ninja in /usr/local/lib/python3.11/site-packages (from easyocr) (1.13.0)\n",
      "Requirement already satisfied: mpmath<1.4,>=1.1.0 in /usr/local/lib/python3.11/site-packages (from sympy>=1.13.3->torch) (1.3.0)\n",
      "Requirement already satisfied: MarkupSafe>=2.0 in /usr/local/lib/python3.11/site-packages (from jinja2->torch) (3.0.3)\n",
      "Requirement already satisfied: imageio!=2.35.0,>=2.33 in /usr/local/lib/python3.11/site-packages (from scikit-image->easyocr) (2.37.0)\n",
      "Requirement already satisfied: tifffile>=2022.8.12 in /usr/local/lib/python3.11/site-packages (from scikit-image->easyocr) (2025.10.4)\n",
      "Requirement already satisfied: packaging>=21 in /usr/local/lib/python3.11/site-packages (from scikit-image->easyocr) (25.0)\n",
      "Requirement already satisfied: lazy-loader>=0.4 in /usr/local/lib/python3.11/site-packages (from scikit-image->easyocr) (0.4)\n",
      "\u001b[33mWARNING: Running pip as the 'root' user can result in broken permissions and conflicting behaviour with the system package manager, possibly rendering your system unusable. It is recommended to use a virtual environment instead: https://pip.pypa.io/warnings/venv. Use the --root-user-action option if you know what you are doing and want to suppress this warning.\u001b[0m\u001b[33m\n",
      "\u001b[0m"
     ]
    }
   ],
   "source": [
    "!pip install torch torchvision torchaudio easyocr \n"
   ]
  },
  {
   "cell_type": "code",
   "execution_count": 35,
   "id": "c38a8fcc-bca7-4871-bd4b-e2284db7ca9c",
   "metadata": {},
   "outputs": [
    {
     "name": "stdout",
     "output_type": "stream",
     "text": [
      "WARNING: PyTorch detected. We force Tesseract and disabled other OCR engines to avoid DL paths. Set ALLOW_TORCH=1 to silence this message.\n",
      "2025-10-07 08:13:17,269 - INFO - detected formats: [<InputFormat.PDF: 'pdf'>]\n",
      "2025-10-07 08:13:17,277 - INFO - Going to convert document batch...\n",
      "2025-10-07 08:13:17,277 - INFO - Initializing pipeline for StandardPdfPipeline with options hash 58627ba972cff869acb44714af27a59e\n",
      "2025-10-07 08:13:17,279 - INFO - Loading plugin 'docling_defaults'\n",
      "2025-10-07 08:13:17,279 - INFO - Registered picture descriptions: ['vlm', 'api']\n",
      "2025-10-07 08:13:17,281 - INFO - Loading plugin 'docling_defaults'\n",
      "2025-10-07 08:13:17,282 - INFO - Registered ocr engines: ['easyocr', 'ocrmac', 'rapidocr', 'tesserocr', 'tesseract']\n",
      "2025-10-07 08:13:17,284 - INFO - Accelerator device: 'cpu'\n",
      "2025-10-07 08:13:17,286 - INFO - Accelerator device: 'cpu'\n",
      "2025-10-07 08:13:18,592 - INFO - Accelerator device: 'cpu'\n",
      "2025-10-07 08:13:18,746 - INFO - Processing document 2206.01062.pdf\n",
      "2025-10-07 08:13:47,217 - INFO - Finished converting document 2206.01062.pdf in 29.95 sec.\n",
      "2025-10-07 08:13:47,236 - INFO - detected formats: [<InputFormat.PDF: 'pdf'>]\n",
      "2025-10-07 08:13:47,238 - INFO - Going to convert document batch...\n",
      "2025-10-07 08:13:47,238 - INFO - Processing document redp5110_sampled.pdf\n",
      "2025-10-07 08:14:18,674 - INFO - Finished converting document redp5110_sampled.pdf in 31.46 sec.\n",
      "2025-10-07 08:14:18,687 - INFO - detected formats: [<InputFormat.PDF: 'pdf'>]\n",
      "2025-10-07 08:14:18,689 - INFO - Going to convert document batch...\n",
      "2025-10-07 08:14:18,689 - INFO - Processing document 2305.03393v1-pg9.pdf\n",
      "2025-10-07 08:14:21,582 - INFO - Finished converting document 2305.03393v1-pg9.pdf in 2.91 sec.\n",
      "2025-10-07 08:14:21,586 - INFO - detected formats: [<InputFormat.PDF: 'pdf'>]\n",
      "2025-10-07 08:14:21,592 - INFO - Going to convert document batch...\n",
      "2025-10-07 08:14:21,592 - INFO - Processing document 2203.01017v2.pdf\n",
      "2025-10-07 08:14:50,311 - INFO - Finished converting document 2203.01017v2.pdf in 28.73 sec.\n"
     ]
    }
   ],
   "source": [
    "!python3 /work/genai-apps/dataprep/batch-conversion.py\n"
   ]
  },
  {
   "cell_type": "markdown",
   "id": "ebfd0e14-09bc-45ba-98ab-4cac75b3612f",
   "metadata": {},
   "source": [
    "程式執行完成後，你應該會在 `/tmp/batch-converted` 資料夾看到對應的 `.md` 檔案。\n",
    "可以用 VS Code 或 Markdown 編輯器打開檢視，確認標題、段落、表格等內容是否正確轉換。\n"
   ]
  },
  {
   "cell_type": "code",
   "execution_count": null,
   "id": "4fd682c0-03ed-4bcf-92a6-99ee4bdd12b7",
   "metadata": {},
   "outputs": [],
   "source": []
  }
 ],
 "metadata": {
  "kernelspec": {
   "display_name": "Python 3 (ipykernel)",
   "language": "python",
   "name": "python3"
  },
  "language_info": {
   "codemirror_mode": {
    "name": "ipython",
    "version": 3
   },
   "file_extension": ".py",
   "mimetype": "text/x-python",
   "name": "python",
   "nbconvert_exporter": "python",
   "pygments_lexer": "ipython3",
   "version": "3.11.13"
  }
 },
 "nbformat": 4,
 "nbformat_minor": 5
}
