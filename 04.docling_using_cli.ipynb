{
 "cells": [
  {
   "cell_type": "markdown",
   "id": "f6b1822d-aa6f-4b3b-b13f-0deb5372d02b",
   "metadata": {},
   "source": [
    "# 使用 Docling CLI (Using the Docling CLI)\n",
    "\n",
    "你可以使用 **Docling CLI** 將文件轉換成多種支援的格式，  \n",
    "這對於快速原型開發及嘗試不同文件的處理方式很有幫助，  \n",
    "特別適合要將資料用於 RAG 流水線和生成式 AI 應用中。\n",
    "\n",
    "👉 完整的指令清單與參數可參考官方文件：  \n",
    "[https://docling-project.github.io/docling/reference/cli](https://docling-project.github.io/docling/reference/cli)\n"
   ]
  },
  {
   "cell_type": "markdown",
   "id": "63633c92-1bfb-43c2-9418-e6326ad0930e",
   "metadata": {},
   "source": [
    "## 先決條件 (Pre-requisites)\n",
    "\n",
    "- 已安裝 **Docling CLI**（可用 `pip install docling==2.36.1` 安裝）\n",
    "- 已安裝 **Git CLI**（或可改用下載 ZIP 的方式）\n"
   ]
  },
  {
   "cell_type": "markdown",
   "id": "ebb23765-7b52-4713-98b7-aef820b055e7",
   "metadata": {},
   "source": [
    "## 實驗：使用 Docling CLI (Lab: Using the Docling CLI)\n",
    "\n",
    "如果尚未下載示例文件，先從 GitHub 複製資料庫：  \n",
    "（如果之前已經下載過，可略過這步）\n"
   ]
  },
  {
   "cell_type": "code",
   "execution_count": 1,
   "id": "a7d611f1-9ec3-4ecb-8dcc-1670f402ecc5",
   "metadata": {},
   "outputs": [
    {
     "name": "stdout",
     "output_type": "stream",
     "text": [
      "fatal: destination path 'genai-apps' already exists and is not an empty directory.\n"
     ]
    }
   ],
   "source": [
    "!git clone https://github.com/RedHatQuickCourses/genai-apps.git\n"
   ]
  },
  {
   "cell_type": "markdown",
   "id": "12c69497-384b-4054-bd3c-d04d480df576",
   "metadata": {},
   "source": [
    "範例輸入檔案都在 **dataprep** 資料夾內。  \n",
    "切換到該資料夾。\n"
   ]
  },
  {
   "cell_type": "code",
   "execution_count": 3,
   "id": "c8ca476d-f5a6-4931-98ae-2eaf0acbe520",
   "metadata": {},
   "outputs": [
    {
     "name": "stdout",
     "output_type": "stream",
     "text": [
      "/work/genai-apps/dataprep\n"
     ]
    }
   ],
   "source": [
    "%cd /work/genai-apps/dataprep\n"
   ]
  },
  {
   "cell_type": "markdown",
   "id": "2b6c53d0-ed36-470b-a5f0-777b107b8142",
   "metadata": {},
   "source": [
    "## 驗證 Docling 是否已安裝\n",
    "\n",
    "確定容器環境中已經安裝了 Docling。\n"
   ]
  },
  {
   "cell_type": "code",
   "execution_count": 4,
   "id": "dd4a9d10-cb31-4283-8b58-a3335e6a4782",
   "metadata": {},
   "outputs": [
    {
     "name": "stdout",
     "output_type": "stream",
     "text": [
      "docling                   2.55.1\n",
      "docling-core              2.48.4\n",
      "docling-ibm-models        3.9.1\n",
      "docling-parse             4.5.0\n",
      "\n",
      "\u001b[1m[\u001b[0m\u001b[34;49mnotice\u001b[0m\u001b[1;39;49m]\u001b[0m\u001b[39;49m A new release of pip is available: \u001b[0m\u001b[31;49m24.0\u001b[0m\u001b[39;49m -> \u001b[0m\u001b[32;49m25.2\u001b[0m\n",
      "\u001b[1m[\u001b[0m\u001b[34;49mnotice\u001b[0m\u001b[1;39;49m]\u001b[0m\u001b[39;49m To update, run: \u001b[0m\u001b[32;49mpip install --upgrade pip\u001b[0m\n"
     ]
    }
   ],
   "source": [
    "!pip list | grep docling\n"
   ]
  },
  {
   "cell_type": "markdown",
   "id": "21227181-15d0-4584-9bd0-bfe256202d99",
   "metadata": {},
   "source": [
    "## 將 PDF 轉換成 Markdown\n",
    "\n",
    "使用 Docling CLI 將 PDF 檔案轉換成 Markdown。  \n",
    "第一次執行時，Docling 會從 Hugging Face 下載並快取一些預訓練模型（用於辨識表格、影像、版面等），第一次可能較慢，之後會快約 50%。\n"
   ]
  },
  {
   "cell_type": "code",
   "execution_count": 5,
   "id": "efe9a0b4-99e0-4669-a23b-75ccd91723bb",
   "metadata": {},
   "outputs": [
    {
     "name": "stdout",
     "output_type": "stream",
     "text": [
      "2025-10-05 05:34:26,104 - INFO - Loading plugin 'docling_defaults'\n",
      "2025-10-05 05:34:26,105 - INFO - Registered ocr engines: ['easyocr', 'ocrmac', 'rapidocr', 'tesserocr', 'tesseract']\n",
      "2025-10-05 05:34:26,114 - INFO - paths: [PosixPath('/tmp/tmp8dkpb4_1/docling-rpt.pdf')]\n",
      "2025-10-05 05:34:26,114 - INFO - detected formats: [<InputFormat.PDF: 'pdf'>]\n",
      "2025-10-05 05:34:26,136 - INFO - Going to convert document batch...\n",
      "2025-10-05 05:34:26,136 - INFO - Initializing pipeline for StandardPdfPipeline with options hash 9b654b4e85723616700c42e6593aa131\n",
      "2025-10-05 05:34:26,137 - INFO - Loading plugin 'docling_defaults'\n",
      "2025-10-05 05:34:26,138 - INFO - Registered picture descriptions: ['vlm', 'api']\n",
      "2025-10-05 05:34:26,145 - INFO - Accelerator device: 'cpu'\n",
      "2025-10-05 05:34:30,435 - INFO - Accelerator device: 'cpu'\n",
      "2025-10-05 05:34:30,598 - INFO - Processing document docling-rpt.pdf\n",
      "2025-10-05 05:34:40,867 - INFO - Finished converting document docling-rpt.pdf in 14.75 sec.\n",
      "2025-10-05 05:34:40,867 - INFO - writing Markdown output to /work/tmp/docling-rpt.md\n",
      "2025-10-05 05:34:40,902 - INFO - Processed 1 docs, of which 0 failed\n",
      "2025-10-05 05:34:40,904 - INFO - All documents were converted in 14.79 seconds.\n"
     ]
    }
   ],
   "source": [
    "#使用no-ocr\n",
    "!docling /work/genai-apps/dataprep/sample-data/docling-rpt.pdf --from pdf --to md --output  /work/tmp/ --no-ocr -vv"
   ]
  },
  {
   "cell_type": "code",
   "execution_count": 1,
   "id": "6a5e46bb-2696-485c-8b10-6dcb3b29cebe",
   "metadata": {},
   "outputs": [
    {
     "name": "stdout",
     "output_type": "stream",
     "text": [
      "2025-10-06 13:28:41,743 - INFO - Loading plugin 'docling_defaults'\n",
      "2025-10-06 13:28:41,744 - INFO - Registered ocr engines: ['easyocr', 'ocrmac', 'rapidocr', 'tesserocr', 'tesseract']\n",
      "2025-10-06 13:28:41,751 - INFO - paths: [PosixPath('/tmp/tmpy1ya1y2s/docling-rpt.pdf')]\n",
      "2025-10-06 13:28:41,751 - INFO - detected formats: [<InputFormat.PDF: 'pdf'>]\n",
      "2025-10-06 13:28:41,758 - INFO - Going to convert document batch...\n",
      "2025-10-06 13:28:41,758 - INFO - Initializing pipeline for StandardPdfPipeline with options hash adcb8572a3195493a34d50c95c8ab1bd\n",
      "2025-10-06 13:28:41,759 - INFO - Loading plugin 'docling_defaults'\n",
      "2025-10-06 13:28:41,760 - INFO - Registered picture descriptions: ['vlm', 'api']\n",
      "2025-10-06 13:28:41,797 - INFO - command: tesseract --list-langs\n",
      "2025-10-06 13:28:41,812 - INFO - Accelerator device: 'cpu'\n",
      "2025-10-06 13:28:55,953 - INFO - Accelerator device: 'cpu'\n",
      "2025-10-06 13:28:56,088 - INFO - Processing document docling-rpt.pdf\n",
      "2025-10-06 13:29:01,369 - INFO - command: tesseract --psm 0 -l osd /tmp/tmpne3ov4_x.png stdout\n",
      "2025-10-06 13:29:01,533 - ERROR - OSD failed (doc /tmp/tmpy1ya1y2s/docling-rpt.pdf, page: 3, OCR rectangle: 0, processed image file <tempfile._TemporaryFileWrapper object at 0xffff856545d0>):\n",
      " b'Estimating resolution as 104\\nWarning. Invalid resolution 0 dpi. Using 70 instead.\\nToo few characters. Skipping this page\\nError during processing.\\n'\n",
      "2025-10-06 13:29:01,533 - INFO - command: tesseract -l fra+deu+spa+eng /tmp/tmpne3ov4_x.png stdout tsv\n",
      "2025-10-06 13:29:11,741 - INFO - command: tesseract --psm 0 -l osd /tmp/tmpw1gpeouc.png stdout\n",
      "2025-10-06 13:29:11,920 - INFO - command: tesseract -l fra+deu+spa+eng /tmp/tmpw1gpeouc.png stdout tsv\n",
      "2025-10-06 13:29:13,260 - INFO - Finished converting document docling-rpt.pdf in 31.51 sec.\n",
      "2025-10-06 13:29:13,260 - INFO - writing Markdown output to /work/tmp/docling-rpt.md\n",
      "2025-10-06 13:29:13,294 - INFO - Processed 1 docs, of which 0 failed\n",
      "2025-10-06 13:29:13,296 - INFO - All documents were converted in 31.55 seconds.\n"
     ]
    }
   ],
   "source": [
    "#使用ocr tesseract, 預設是使用easyocr, 但mac m系統cpu不支援\n",
    "!docling /work/genai-apps/dataprep/sample-data/docling-rpt.pdf --from pdf --to md --output  /work/tmp --ocr-engine tesseract"
   ]
  },
  {
   "cell_type": "markdown",
   "id": "9a5bf4fc-bd55-4ff0-a382-796c77fe7c3d",
   "metadata": {},
   "source": [
    "檢查 `/tmp/` 目錄下是否產生相同檔名、但副檔名為 `.md` 的檔案。  \n",
    "你可以用 VS Code 或任何 Markdown 預覽工具查看結果。\n"
   ]
  },
  {
   "cell_type": "markdown",
   "id": "a79d6c42-c0ed-4904-9ab0-b0bda18c1217",
   "metadata": {},
   "source": [
    "## 輸出為 JSON 格式\n",
    "\n",
    "可使用 `--to` 參數指定輸出格式，例如要輸出 JSON：\n"
   ]
  },
  {
   "cell_type": "markdown",
   "id": "76107d7c-8f3a-41f6-ac26-f9313ee1db51",
   "metadata": {},
   "source": [
    "檢查 `/tmp/` 目錄下的 JSON 輸出。  \n",
    "開啟檔案可看到結構化內容，例如：\n",
    "```json\n",
    "{\n",
    "  \"schema_name\": \"DoclingDocument\",\n",
    "  \"version\": \"1.7.0\",\n",
    "  \"name\": \"docling-rpt\",\n",
    "  \"origin\": {\n",
    "    \"mimetype\": \"application/pdf\",\n",
    "    \"binary_hash\": 11465328351749296000,\n",
    "    \"filename\": \"docling-rpt.pdf\"\n",
    "  },\n",
    "  ...\n",
    "}\n"
   ]
  },
  {
   "cell_type": "markdown",
   "id": "c41f5ba5-9bd9-45ac-9334-984d57971596",
   "metadata": {},
   "source": [
    "## 轉換 MS Word 文件\n",
    "\n",
    "將 MS Word 文件轉換為 Markdown。"
   ]
  },
  {
   "cell_type": "code",
   "execution_count": 4,
   "id": "be7e3870-0ca5-4a7b-b9d2-02674c84cc94",
   "metadata": {},
   "outputs": [
    {
     "name": "stdout",
     "output_type": "stream",
     "text": [
      "2025-10-06 13:40:42,799 - INFO - Loading plugin 'docling_defaults'\n",
      "2025-10-06 13:40:42,800 - INFO - Registered ocr engines: ['easyocr', 'ocrmac', 'rapidocr', 'tesserocr', 'tesseract']\n",
      "2025-10-06 13:40:42,805 - INFO - paths: [PosixPath('/tmp/tmpf5506u_l/msword-sample.docx')]\n",
      "2025-10-06 13:40:42,806 - INFO - detected formats: [<InputFormat.DOCX: 'docx'>]\n",
      "2025-10-06 13:40:42,808 - INFO - Going to convert document batch...\n",
      "2025-10-06 13:40:42,808 - INFO - Initializing pipeline for SimplePipeline with options hash 6082ab411073f839a822bbff13035c3a\n",
      "2025-10-06 13:40:42,809 - INFO - Loading plugin 'docling_defaults'\n",
      "2025-10-06 13:40:42,809 - INFO - Registered picture descriptions: ['vlm', 'api']\n",
      "2025-10-06 13:40:42,809 - INFO - Processing document msword-sample.docx\n",
      "2025-10-06 13:40:42,814 - INFO - deleted item in tree at stack: (0, 0, 3, 0, 11) => #/texts/17\n",
      "2025-10-06 13:40:42,815 - INFO - deleted item in tree at stack: (0, 0, 3, 0, 11) => #/texts/17\n",
      "2025-10-06 13:40:42,815 - INFO - deleted item in tree at stack: (0, 0, 3, 0, 11) => #/texts/17\n",
      "2025-10-06 13:40:42,816 - INFO - deleted item in tree at stack: (0, 0, 3, 0, 11) => #/texts/17\n",
      "2025-10-06 13:40:42,817 - INFO - deleted item in tree at stack: (0, 0, 3, 0, 11) => #/texts/17\n",
      "2025-10-06 13:40:42,817 - INFO - deleted item in tree at stack: (0, 0, 3, 0, 11) => #/texts/17\n",
      "2025-10-06 13:40:42,818 - INFO - deleted item in tree at stack: (0, 0, 3, 0, 11) => #/texts/17\n",
      "2025-10-06 13:40:42,818 - INFO - deleted item in tree at stack: (0, 0, 3, 0, 11) => #/texts/17\n",
      "2025-10-06 13:40:42,820 - INFO - deleted item in tree at stack: (0, 0, 3, 0, 16) => #/texts/21\n",
      "2025-10-06 13:40:42,821 - INFO - deleted item in tree at stack: (0, 0, 3, 0, 16) => #/texts/21\n",
      "2025-10-06 13:40:42,821 - INFO - deleted item in tree at stack: (0, 0, 3, 0, 16) => #/texts/21\n",
      "2025-10-06 13:40:42,822 - INFO - deleted item in tree at stack: (0, 0, 3, 0, 16) => #/texts/21\n",
      "2025-10-06 13:40:42,823 - INFO - deleted item in tree at stack: (0, 0, 3, 0, 16) => #/texts/21\n",
      "2025-10-06 13:40:42,823 - INFO - deleted item in tree at stack: (0, 0, 3, 0, 16) => #/texts/21\n",
      "2025-10-06 13:40:42,824 - INFO - deleted item in tree at stack: (0, 0, 3, 0, 16) => #/texts/21\n",
      "2025-10-06 13:40:42,825 - INFO - deleted item in tree at stack: (0, 0, 3, 0, 16) => #/texts/21\n",
      "2025-10-06 13:40:42,827 - INFO - deleted item in tree at stack: (0, 0, 3, 0, 24) => #/texts/28\n",
      "2025-10-06 13:40:42,828 - INFO - deleted item in tree at stack: (0, 0, 3, 0, 24) => #/texts/28\n",
      "2025-10-06 13:40:42,828 - INFO - deleted item in tree at stack: (0, 0, 3, 0, 24) => #/texts/28\n",
      "2025-10-06 13:40:42,829 - INFO - deleted item in tree at stack: (0, 0, 3, 0, 24) => #/texts/28\n",
      "2025-10-06 13:40:42,830 - INFO - deleted item in tree at stack: (0, 0, 3, 0, 24) => #/texts/28\n",
      "2025-10-06 13:40:42,831 - INFO - deleted item in tree at stack: (0, 0, 3, 0, 24) => #/texts/28\n",
      "2025-10-06 13:40:42,831 - INFO - deleted item in tree at stack: (0, 0, 3, 0, 24) => #/texts/28\n",
      "2025-10-06 13:40:42,833 - INFO - deleted item in tree at stack: (0, 0, 3, 0, 24) => #/texts/30\n",
      "2025-10-06 13:40:42,834 - INFO - deleted item in tree at stack: (0, 0, 3, 0, 24) => #/texts/30\n",
      "2025-10-06 13:40:42,835 - INFO - deleted item in tree at stack: (0, 0, 3, 0, 24) => #/texts/30\n",
      "2025-10-06 13:40:42,836 - INFO - deleted item in tree at stack: (0, 0, 3, 0, 24) => #/texts/30\n",
      "2025-10-06 13:40:42,837 - INFO - deleted item in tree at stack: (0, 0, 3, 0, 24) => #/texts/30\n",
      "2025-10-06 13:40:42,837 - INFO - deleted item in tree at stack: (0, 0, 3, 0, 24) => #/texts/30\n",
      "2025-10-06 13:40:42,838 - INFO - deleted item in tree at stack: (0, 0, 3, 0, 24) => #/texts/30\n",
      "2025-10-06 13:40:42,839 - INFO - deleted item in tree at stack: (0, 0, 3, 0, 24) => #/texts/30\n",
      "2025-10-06 13:40:42,839 - INFO - deleted item in tree at stack: (0, 0, 3, 0, 24) => #/texts/30\n",
      "2025-10-06 13:40:42,840 - INFO - deleted item in tree at stack: (0, 0, 3, 0, 24) => #/texts/30\n",
      "2025-10-06 13:40:42,840 - INFO - deleted item in tree at stack: (0, 0, 3, 0, 24) => #/texts/30\n",
      "2025-10-06 13:40:42,841 - INFO - deleted item in tree at stack: (0, 0, 3, 0, 24) => #/texts/30\n",
      "2025-10-06 13:40:42,842 - INFO - deleted item in tree at stack: (0, 0, 3, 0, 24) => #/texts/30\n",
      "2025-10-06 13:40:42,859 - INFO - Finished converting document msword-sample.docx in 0.05 sec.\n",
      "2025-10-06 13:40:42,859 - INFO - writing Markdown output to /work/tmp/msword-sample.md\n",
      "2025-10-06 13:40:42,870 - INFO - Processed 1 docs, of which 0 failed\n",
      "2025-10-06 13:40:42,870 - INFO - All documents were converted in 0.06 seconds.\n"
     ]
    }
   ],
   "source": [
    "!docling --output /work/tmp/ /work/genai-apps/dataprep/sample-data/msword-sample.docx --ocr-engine tesseract"
   ]
  },
  {
   "cell_type": "markdown",
   "id": "8bb74954-b0b8-495c-92bc-f52e927b1f50",
   "metadata": {},
   "source": [
    "Docling 會辨識版面與表格結構並正確轉成 Markdown。\n"
   ]
  },
  {
   "cell_type": "markdown",
   "id": "c5dc42b2-9b03-434a-98e6-3344f6dd2b0f",
   "metadata": {},
   "source": [
    "## 轉換 MS PowerPoint 文件\n",
    "\n",
    "將 PowerPoint 文件轉換為 Markdown。\n"
   ]
  },
  {
   "cell_type": "code",
   "execution_count": 5,
   "id": "ec52dd79-d0c7-4ecd-b5f3-c71256a9e67c",
   "metadata": {},
   "outputs": [
    {
     "name": "stdout",
     "output_type": "stream",
     "text": [
      "2025-10-06 13:41:11,168 - INFO - Loading plugin 'docling_defaults'\n",
      "2025-10-06 13:41:11,169 - INFO - Registered ocr engines: ['easyocr', 'ocrmac', 'rapidocr', 'tesserocr', 'tesseract']\n",
      "2025-10-06 13:41:11,175 - INFO - paths: [PosixPath('/tmp/tmpvlhl85z1/ppt-sample.pptx')]\n",
      "2025-10-06 13:41:11,175 - INFO - detected formats: [<InputFormat.PPTX: 'pptx'>]\n",
      "2025-10-06 13:41:11,216 - INFO - Going to convert document batch...\n",
      "2025-10-06 13:41:11,216 - INFO - Initializing pipeline for SimplePipeline with options hash 6082ab411073f839a822bbff13035c3a\n",
      "2025-10-06 13:41:11,218 - INFO - Loading plugin 'docling_defaults'\n",
      "2025-10-06 13:41:11,219 - INFO - Registered picture descriptions: ['vlm', 'api']\n",
      "2025-10-06 13:41:11,219 - INFO - Processing document ppt-sample.pptx\n",
      "2025-10-06 13:41:11,237 - WARNING - Warning: image cannot be loaded by Pillow: cannot find loader for this WMF file\n",
      "2025-10-06 13:41:11,247 - INFO - Finished converting document ppt-sample.pptx in 0.07 sec.\n",
      "2025-10-06 13:41:11,247 - INFO - writing Markdown output to /work/tmp/ppt-sample.md\n",
      "2025-10-06 13:41:11,258 - INFO - Processed 1 docs, of which 0 failed\n",
      "2025-10-06 13:41:11,258 - INFO - All documents were converted in 0.08 seconds.\n"
     ]
    }
   ],
   "source": [
    "!docling --output /work/tmp/ /work/genai-apps/dataprep/sample-data/ppt-sample.pptx --ocr-engine tesseract\n"
   ]
  },
  {
   "cell_type": "markdown",
   "id": "1fbe1476-5940-46d7-8a4f-b0b5619f5689",
   "metadata": {},
   "source": [
    "> ⚠️ 若看到類似警告：  \n",
    "> `Warning: image cannot be loaded by Pillow: cannot find loader for this WMF file`  \n",
    "> 可忽略，Docling 仍會正確將每張投影片轉換為 Markdown 標題，並把投影片內容放在對應的標題下，子彈點也會轉成清單。\n"
   ]
  },
  {
   "cell_type": "markdown",
   "id": "9c6971cf-5f63-4887-843a-9f6c71104f1c",
   "metadata": {},
   "source": [
    "## 從 URL 直接轉換文件\n",
    "\n",
    "Docling 也可以直接處理網路上的文件。例如：\n"
   ]
  },
  {
   "cell_type": "code",
   "execution_count": 6,
   "id": "a874f7a5-8145-4eb0-a88e-718c3a17787e",
   "metadata": {},
   "outputs": [
    {
     "name": "stdout",
     "output_type": "stream",
     "text": [
      "2025-10-06 13:41:33,665 - INFO - Loading plugin 'docling_defaults'\n",
      "2025-10-06 13:41:33,666 - INFO - Registered ocr engines: ['easyocr', 'ocrmac', 'rapidocr', 'tesserocr', 'tesseract']\n",
      "2025-10-06 13:41:34,111 - INFO - paths: [PosixPath('/tmp/tmpt6k3m4al/2408.09869v5.pdf')]\n",
      "2025-10-06 13:41:34,111 - INFO - detected formats: [<InputFormat.PDF: 'pdf'>]\n",
      "2025-10-06 13:41:34,124 - INFO - Going to convert document batch...\n",
      "2025-10-06 13:41:34,124 - INFO - Initializing pipeline for StandardPdfPipeline with options hash adcb8572a3195493a34d50c95c8ab1bd\n",
      "2025-10-06 13:41:34,126 - INFO - Loading plugin 'docling_defaults'\n",
      "2025-10-06 13:41:34,127 - INFO - Registered picture descriptions: ['vlm', 'api']\n",
      "2025-10-06 13:41:34,139 - INFO - command: tesseract --list-langs\n",
      "2025-10-06 13:41:34,149 - INFO - Accelerator device: 'cpu'\n",
      "2025-10-06 13:41:34,899 - INFO - Accelerator device: 'cpu'\n",
      "2025-10-06 13:41:35,045 - INFO - Processing document 2408.09869v5.pdf\n",
      "2025-10-06 13:41:40,342 - INFO - command: tesseract --psm 0 -l osd /tmp/tmp5e22_2pc.png stdout\n",
      "2025-10-06 13:41:40,498 - ERROR - OSD failed (doc /tmp/tmpt6k3m4al/2408.09869v5.pdf, page: 3, OCR rectangle: 0, processed image file <tempfile._TemporaryFileWrapper object at 0xffff8e614050>):\n",
      " b'Estimating resolution as 104\\nWarning. Invalid resolution 0 dpi. Using 70 instead.\\nToo few characters. Skipping this page\\nError during processing.\\n'\n",
      "2025-10-06 13:41:40,499 - INFO - command: tesseract -l fra+deu+spa+eng /tmp/tmp5e22_2pc.png stdout tsv\n",
      "2025-10-06 13:41:50,723 - INFO - command: tesseract --psm 0 -l osd /tmp/tmpukeemxqs.png stdout\n",
      "2025-10-06 13:41:50,895 - INFO - command: tesseract -l fra+deu+spa+eng /tmp/tmpukeemxqs.png stdout tsv\n",
      "2025-10-06 13:41:52,271 - INFO - Finished converting document 2408.09869v5.pdf in 18.16 sec.\n",
      "2025-10-06 13:41:52,271 - INFO - writing Markdown output to /work/tmp/2408.09869v5.md\n",
      "2025-10-06 13:41:52,305 - INFO - Processed 1 docs, of which 0 failed\n",
      "2025-10-06 13:41:52,307 - INFO - All documents were converted in 18.20 seconds.\n"
     ]
    }
   ],
   "source": [
    "!docling -vv --output /work/tmp/ https://arxiv.org/pdf/2408.09869 --ocr-engine tesseract\n"
   ]
  },
  {
   "cell_type": "markdown",
   "id": "52e3a5c2-2f2e-4933-ac7e-855b6d258bb0",
   "metadata": {},
   "source": [
    "## 延伸練習\n",
    "\n",
    "- 嘗試用自己的 PDF 或 MS Office 文件進行轉換  \n",
    "- 測試不同輸入與輸出格式  \n",
    "- 詳細參數說明請參考官方 CLI 文件：  \n",
    "  [https://docling-project.github.io/docling/reference/cli](https://docling-project.github.io/docling/reference/cli)\n"
   ]
  }
 ],
 "metadata": {
  "kernelspec": {
   "display_name": "Python 3 (ipykernel)",
   "language": "python",
   "name": "python3"
  },
  "language_info": {
   "codemirror_mode": {
    "name": "ipython",
    "version": 3
   },
   "file_extension": ".py",
   "mimetype": "text/x-python",
   "name": "python",
   "nbconvert_exporter": "python",
   "pygments_lexer": "ipython3",
   "version": "3.11.13"
  }
 },
 "nbformat": 4,
 "nbformat_minor": 5
}
