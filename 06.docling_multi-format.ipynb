{
 "cells": [
  {
   "cell_type": "markdown",
   "id": "14c0f2e6-565c-497c-9c33-b140430c8106",
   "metadata": {},
   "source": [
    "# 多格式文件轉換 (Multi-format Conversion)\n",
    "\n",
    "Docling 支援自動偵測多種輸入文件格式，並轉換成適合 LLM 使用的輸出格式。  \n",
    "完整的支援清單可參考官方「Supported Input and Output Formats」。\n",
    "\n",
    "你可以透過 `DocumentConverter` 類別的 `allowed_formats` 參數來限制允許的輸入格式，  \n",
    "未包含在此列表的格式會被忽略。\n",
    "\n",
    "同時，也可以利用 Python 的 `Path.glob()` 方法自行篩選想要轉換的檔案。\n"
   ]
  },
  {
   "cell_type": "code",
   "execution_count": 1,
   "id": "575f58ee-c83d-4d37-ab8f-a93941bfed48",
   "metadata": {},
   "outputs": [],
   "source": [
    "# 範例：限制允許的輸入格式\n",
    "from docling.document_converter import DocumentConverter, InputFormat\n",
    "\n",
    "doc_converter = DocumentConverter(\n",
    "    allowed_formats=[\n",
    "        InputFormat.PDF,\n",
    "        InputFormat.IMAGE,\n",
    "        InputFormat.DOCX,\n",
    "        InputFormat.HTML,\n",
    "        InputFormat.PPTX,\n",
    "        InputFormat.ASCIIDOC,\n",
    "        InputFormat.CSV,\n",
    "        InputFormat.MD,\n",
    "    ]\n",
    ")\n"
   ]
  },
  {
   "cell_type": "markdown",
   "id": "83137e18-d672-4a53-8b6e-df167da2d516",
   "metadata": {},
   "source": [
    "## 自行過濾要處理的檔案類型\n",
    "\n",
    "如果不想用 `allowed_formats`，可以使用 Python 的 `glob()` 方法指定副檔名過濾。\n"
   ]
  },
  {
   "cell_type": "code",
   "execution_count": 3,
   "id": "3bfc8eda-24c0-418d-a7a0-d4ff38a483dd",
   "metadata": {},
   "outputs": [
    {
     "name": "stdout",
     "output_type": "stream",
     "text": [
      "找到 6 個檔案可供轉換\n",
      " - amt_handbook_sample.pdf\n",
      " - word_sample.docx\n",
      " - excel-test-01.xlsx\n",
      " - powerpoint_with_image.pptx\n",
      " - csv-comma.csv\n"
     ]
    }
   ],
   "source": [
    "from pathlib import Path\n",
    "\n",
    "input_path = Path(\"/work/genai-apps/dataprep/sample-data/multi-format\")\n",
    "\n",
    "# 自訂允許的副檔名\n",
    "allowed_extensions = [\"*.pdf\", \"*.docx\", \"*.xlsx\", \"*.pptx\", \"*.csv\", \"*.asciidoc\"]\n",
    "\n",
    "input_doc_paths = []\n",
    "for ext in allowed_extensions:\n",
    "    input_doc_paths.extend(input_path.glob(ext))\n",
    "\n",
    "print(f\"找到 {len(input_doc_paths)} 個檔案可供轉換\")\n",
    "for p in input_doc_paths[:5]:\n",
    "    print(\" -\", p.name)\n"
   ]
  },
  {
   "cell_type": "markdown",
   "id": "655ac298-7ee2-4792-ab9e-aee72851be3d",
   "metadata": {},
   "source": [
    "## 建立輸出資料夾並設定輸出路徑\n"
   ]
  },
  {
   "cell_type": "code",
   "execution_count": 19,
   "id": "3bf131d0-67a6-4d55-867e-5a4a0a7453f3",
   "metadata": {},
   "outputs": [],
   "source": [
    "OUTPUT_DIR = Path(\"/work/tmp/multi-converted\")\n",
    "OUTPUT_DIR.mkdir(parents=True, exist_ok=True)\n"
   ]
  },
  {
   "cell_type": "markdown",
   "id": "a0970625-681a-408c-9cb2-5658671fe883",
   "metadata": {},
   "source": [
    "## 使用 `convert_all` 進行批次轉換\n",
    "\n",
    "Docling 的 `convert_all` 方法可將所有檔案一次轉成 `DoclingDocument` 物件，  \n",
    "後續可再匯出成各種格式（如 JSON、Markdown）。\n"
   ]
  },
  {
   "cell_type": "markdown",
   "id": "d839ef24-c593-4fc6-a644-f280805d96c7",
   "metadata": {},
   "source": [
    "```python\n",
    "from docling.models.docling_document import ImageRefMode\n",
    "\n",
    "conv_results = doc_converter.convert_all(\n",
    "    input_doc_paths,\n",
    "    raises_on_error=False,  # 發生錯誤時不中斷整批\n",
    ")\n",
    "len(conv_results)\n"
   ]
  },
  {
   "cell_type": "markdown",
   "id": "726b2767-4316-49db-9299-e35188c288fd",
   "metadata": {},
   "source": [
    "## 將轉換結果輸出為 JSON\n",
    "\n",
    "這裡示範將每個 `DoclingDocument` 輸出成 `.json` 格式，  \n",
    "你可以在 VS Code 或其他編輯器中查看結果。\n"
   ]
  },
  {
   "cell_type": "markdown",
   "id": "29c8db1f-8cc2-473d-81b5-5b6847550be3",
   "metadata": {},
   "source": [
    "```python\n",
    "saved = []\n",
    "for conv_res in conv_results:\n",
    "    if conv_res.document is None:\n",
    "        print(f\"[Skip] {conv_res.input_path.name}\")\n",
    "        continue\n",
    "\n",
    "    out_file = OUTPUT_DIR / f\"{conv_res.input_path.stem}.json\"\n",
    "    conv_res.document.save_as_json(out_file, image_mode=ImageRefMode.PLACEHOLDER)\n",
    "    saved.append(out_file)\n",
    "\n",
    "print(f\"完成輸出 {len(saved)} 個 JSON 檔案\")\n",
    "for p in saved[:5]:\n",
    "    print(\" -\", p)\n"
   ]
  },
  {
   "cell_type": "markdown",
   "id": "99475d8a-ce2c-4643-92c9-97333c4aa42e",
   "metadata": {},
   "source": [
    "## 實際執行預寫好的腳本"
   ]
  },
  {
   "cell_type": "code",
   "execution_count": 13,
   "id": "4cf0728b-2bdf-4925-8a65-b53f498ebad6",
   "metadata": {},
   "outputs": [
    {
     "name": "stdout",
     "output_type": "stream",
     "text": [
      "WARNING: PyTorch detected; we force Tesseract and disable DL OCR engines to avoid AVX-related crashes. Set ALLOW_TORCH=1 to silence.\n",
      "[INFO] Found 6 files in /work/genai-apps/dataprep/sample-data/multi-format\n",
      "2025-10-07 09:09:43,545 - INFO - detected formats: [<InputFormat.PDF: 'pdf'>]\n",
      "2025-10-07 09:09:43,551 - INFO - Going to convert document batch...\n",
      "2025-10-07 09:09:43,551 - INFO - Initializing pipeline for StandardPdfPipeline with options hash 58627ba972cff869acb44714af27a59e\n",
      "2025-10-07 09:09:43,553 - INFO - Loading plugin 'docling_defaults'\n",
      "2025-10-07 09:09:43,553 - INFO - Registered picture descriptions: ['vlm', 'api']\n",
      "2025-10-07 09:09:43,555 - INFO - Loading plugin 'docling_defaults'\n",
      "2025-10-07 09:09:43,556 - INFO - Registered ocr engines: ['easyocr', 'ocrmac', 'rapidocr', 'tesserocr', 'tesseract']\n",
      "2025-10-07 09:09:43,558 - INFO - Accelerator device: 'cpu'\n",
      "2025-10-07 09:09:43,560 - INFO - Accelerator device: 'cpu'\n",
      "2025-10-07 09:09:44,377 - INFO - Accelerator device: 'cpu'\n",
      "2025-10-07 09:09:44,531 - INFO - Processing document amt_handbook_sample.pdf\n",
      "2025-10-07 09:09:45,607 - INFO - Finished converting document amt_handbook_sample.pdf in 2.06 sec.\n",
      "[SAVE] /work/tmp/multi-converted/amt_handbook_sample.json\n",
      "2025-10-07 09:09:45,612 - INFO - detected formats: [<InputFormat.DOCX: 'docx'>]\n",
      "2025-10-07 09:09:45,615 - INFO - Going to convert document batch...\n",
      "2025-10-07 09:09:45,615 - INFO - Initializing pipeline for SimplePipeline with options hash 6082ab411073f839a822bbff13035c3a\n",
      "2025-10-07 09:09:45,615 - INFO - Processing document word_sample.docx\n",
      "2025-10-07 09:09:45,634 - INFO - deleted item in tree at stack: (1, 3, 5, 4) => #/texts/18\n",
      "2025-10-07 09:09:45,635 - INFO - deleted item in tree at stack: (1, 3, 5, 4) => #/texts/18\n",
      "2025-10-07 09:09:45,636 - INFO - deleted item in tree at stack: (1, 3, 5, 4) => #/texts/18\n",
      "2025-10-07 09:09:45,637 - INFO - deleted item in tree at stack: (1, 3, 5, 4) => #/texts/18\n",
      "2025-10-07 09:09:45,638 - INFO - deleted item in tree at stack: (1, 3, 5, 4) => #/texts/18\n",
      "2025-10-07 09:09:45,639 - INFO - deleted item in tree at stack: (1, 3, 5, 4) => #/texts/18\n",
      "2025-10-07 09:09:45,640 - INFO - deleted item in tree at stack: (1, 3, 5, 4) => #/texts/18\n",
      "2025-10-07 09:09:45,641 - INFO - deleted item in tree at stack: (1, 3, 5, 4) => #/texts/18\n",
      "2025-10-07 09:09:45,641 - INFO - deleted item in tree at stack: (1, 3, 5, 4) => #/texts/18\n",
      "2025-10-07 09:09:45,642 - INFO - deleted item in tree at stack: (1, 3, 5, 4) => #/texts/18\n",
      "2025-10-07 09:09:45,643 - INFO - deleted item in tree at stack: (1, 3, 5, 4) => #/texts/18\n",
      "2025-10-07 09:09:45,644 - INFO - deleted item in tree at stack: (1, 3, 5, 4) => #/texts/18\n",
      "2025-10-07 09:09:45,646 - INFO - Finished converting document word_sample.docx in 0.04 sec.\n",
      "[SAVE] /work/tmp/multi-converted/word_sample.json\n",
      "2025-10-07 09:09:45,649 - INFO - detected formats: [<InputFormat.XLSX: 'xlsx'>]\n",
      "2025-10-07 09:09:45,657 - INFO - Going to convert document batch...\n",
      "2025-10-07 09:09:45,657 - INFO - Processing document excel-test-01.xlsx\n",
      "2025-10-07 09:09:45,657 - INFO - Processing sheet: Sheet1\n",
      "2025-10-07 09:09:45,657 - INFO - Processing sheet: Sheet2\n",
      "2025-10-07 09:09:45,658 - INFO - Processing sheet: Sheet3\n",
      "2025-10-07 09:09:45,674 - INFO - Finished converting document excel-test-01.xlsx in 0.03 sec.\n",
      "[SAVE] /work/tmp/multi-converted/excel-test-01.json\n",
      "2025-10-07 09:09:45,679 - INFO - detected formats: [<InputFormat.PPTX: 'pptx'>]\n",
      "2025-10-07 09:09:45,682 - INFO - Going to convert document batch...\n",
      "2025-10-07 09:09:45,682 - INFO - Processing document powerpoint_with_image.pptx\n",
      "2025-10-07 09:09:45,689 - INFO - Finished converting document powerpoint_with_image.pptx in 0.02 sec.\n",
      "[SAVE] /work/tmp/multi-converted/powerpoint_with_image.json\n",
      "2025-10-07 09:09:45,691 - INFO - detected formats: [<InputFormat.CSV: 'csv'>]\n",
      "2025-10-07 09:09:45,691 - INFO - Going to convert document batch...\n",
      "2025-10-07 09:09:45,691 - INFO - Processing document csv-comma.csv\n",
      "2025-10-07 09:09:45,692 - INFO - Parsing CSV with delimiter: \",\"\n",
      "2025-10-07 09:09:45,692 - INFO - Detected 6 lines\n",
      "2025-10-07 09:09:45,692 - INFO - Finished converting document csv-comma.csv in 0.00 sec.\n",
      "[SAVE] /work/tmp/multi-converted/csv-comma.json\n",
      "2025-10-07 09:09:45,695 - INFO - detected formats: [<InputFormat.ASCIIDOC: 'asciidoc'>]\n",
      "2025-10-07 09:09:45,695 - INFO - Going to convert document batch...\n",
      "2025-10-07 09:09:45,695 - INFO - Processing document adoc_test_01.asciidoc\n",
      "2025-10-07 09:09:45,696 - INFO - Finished converting document adoc_test_01.asciidoc in 0.00 sec.\n",
      "[SAVE] /work/tmp/multi-converted/adoc_test_01.json\n",
      "[DONE] Saved 6 file(s) to /work/tmp/multi-converted\n"
     ]
    }
   ],
   "source": [
    "!python3 /work/genai-apps/dataprep/multi-format.py"
   ]
  },
  {
   "cell_type": "markdown",
   "id": "b8f9093e-0410-499d-aefd-af003849aeeb",
   "metadata": {},
   "source": [
    "## 驗證輸出結果\n",
    "\n",
    "到 `/tmp/multi-converted` 資料夾查看，應該可以看到與輸入檔案同名的 `.json` 檔。  \n",
    "可打開檢視層級結構：標題、段落、表格等會被轉成對應的 JSON 層級。\n"
   ]
  },
  {
   "cell_type": "code",
   "execution_count": 20,
   "id": "a221d7bf-339f-4dfb-a1a8-849be10fb834",
   "metadata": {},
   "outputs": [
    {
     "name": "stdout",
     "output_type": "stream",
     "text": [
      "adoc_test_01.json\n",
      "amt_handbook_sample.json\n",
      "csv-comma.json\n",
      "excel-test-01.json\n",
      "powerpoint_with_image.json\n",
      "word_sample.json\n",
      "總數: 6\n"
     ]
    }
   ],
   "source": [
    "from pathlib import Path\n",
    "\n",
    "OUT_PATH = Path(OUTPUT_DIR)\n",
    "\n",
    "for p in sorted(OUT_PATH.glob(\"*.json\"))[:10]:\n",
    "    print(p.name)\n",
    "\n",
    "print(\"總數:\", len(list(OUT_PATH.glob(\"*.json\"))))\n",
    "\n"
   ]
  },
  {
   "cell_type": "markdown",
   "id": "4dd88b46-0945-4452-aad7-52a7f5e882ed",
   "metadata": {},
   "source": [
    "### 小提醒\n",
    "- `allowed_formats` 可以快速限制處理的輸入格式；若要更彈性，可用 Python 的 `glob()` 自行篩選副檔名。\n",
    "- 輸出除了 JSON，也可使用 `.save_as_markdown()`、`.save_as_html()` 等方法。\n",
    "- 若文件包含掃描影像且需 OCR，請確保環境已安裝 OCR 引擎（如 Tesseract/EasyOCR）。\n"
   ]
  }
 ],
 "metadata": {
  "kernelspec": {
   "display_name": "Python 3 (ipykernel)",
   "language": "python",
   "name": "python3"
  },
  "language_info": {
   "codemirror_mode": {
    "name": "ipython",
    "version": 3
   },
   "file_extension": ".py",
   "mimetype": "text/x-python",
   "name": "python",
   "nbconvert_exporter": "python",
   "pygments_lexer": "ipython3",
   "version": "3.11.13"
  }
 },
 "nbformat": 4,
 "nbformat_minor": 5
}
