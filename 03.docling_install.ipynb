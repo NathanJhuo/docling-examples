{
 "cells": [
  {
   "cell_type": "markdown",
   "id": "02e84cc4-85e0-41f1-a1e3-89fb9ba46564",
   "metadata": {},
   "source": [
    "# 安裝 Docling\n",
    "\n",
    "你可以用多種方式安裝並使用 **Docling**。本節列出不同的安裝選項。\n"
   ]
  },
  {
   "cell_type": "markdown",
   "id": "0637373f-680e-4b12-a0c7-b7fcb9f55fad",
   "metadata": {},
   "source": [
    "## 先決條件 (Pre-requisites)\n",
    "\n",
    "- macOS、Linux 或基於 WSL 的 Windows 環境  \n",
    "- Python 版本 **3.10–3.12**  \n",
    "  > 本課程的程式範例已在 **macOS ARM 上的 Python 3.12** 測試過。  \n",
    "- 建議使用以下工具安裝與管理 Python 版本：\n",
    "  - macOS：**brew**\n",
    "  - 其他系統：**pyenv** 或 **uv**\n",
    "- **Podman**（推薦）或 Docker，用於以容器方式執行 Docling。  \n",
    "  > 本課程使用 Podman。  \n",
    "- **Git CLI**：用於從 GitHub 複製範例資料。\n"
   ]
  },
  {
   "cell_type": "markdown",
   "id": "4e6d3d3a-250d-40a0-a06f-0f81e8665e08",
   "metadata": {},
   "source": [
    "## 實驗：CLI 安裝 Docling (Lab: CLI Install)\n",
    "\n",
    "先確認系統已安裝 **Python 3.10 或以上版本**。\n"
   ]
  },
  {
   "cell_type": "code",
   "execution_count": null,
   "id": "dea1aac7-745f-43b1-ac8c-2cfae92b699c",
   "metadata": {},
   "outputs": [],
   "source": [
    "!python3 -V"
   ]
  },
  {
   "cell_type": "markdown",
   "id": "016e473c-a5c1-4dbc-b64d-93e3023c072c",
   "metadata": {},
   "source": [
    "在本課程中，你將使用一組輸入文件並將它們轉換成各種輸出格式。  \n",
    "先從 GitHub 下載包含範例文件的專案到任意資料夾。\n"
   ]
  },
  {
   "cell_type": "code",
   "execution_count": null,
   "id": "571e4d94-54a5-426d-971d-97a711db992c",
   "metadata": {},
   "outputs": [],
   "source": [
    "!echo \"which:\"; which sudo || true; which micromamba || true; which mamba || true; which conda || true; which apt-get || true\n",
    "!python -V"
   ]
  },
  {
   "cell_type": "code",
   "execution_count": null,
   "id": "5fa0e94d-8359-4d5b-9a69-ddc821f0a801",
   "metadata": {},
   "outputs": [],
   "source": [
    "!conda install -y -n base -c conda-forge git\n",
    "!git --version\n"
   ]
  },
  {
   "cell_type": "markdown",
   "id": "ce1a94ed-02fe-42d0-bc08-48758f8bfe9d",
   "metadata": {},
   "source": [
    "所有範例輸入檔與程式碼都在 **dataprep** 資料夾中。  \n",
    "切換到此資料夾。\n"
   ]
  },
  {
   "cell_type": "code",
   "execution_count": 6,
   "id": "29e8abb9-8ebd-4472-adf6-98be23458407",
   "metadata": {},
   "outputs": [
    {
     "name": "stdout",
     "output_type": "stream",
     "text": [
      "/home/jovyan/work/genai-apps/dataprep\n"
     ]
    }
   ],
   "source": [
    "%mkdir -p ~/work/genai-apps/dataprep\n",
    "%cd ~/work/genai-apps/dataprep\n"
   ]
  },
  {
   "cell_type": "markdown",
   "id": "b635762d-4023-4efc-b04c-bd3e98f7c4e1",
   "metadata": {},
   "source": [
    "## 安裝 Docling\n",
    "\n",
    "直接使用 pip 安裝指定版本的 Docling（此範例安裝 **2.36.1**）。\n",
    "\n"
   ]
  },
  {
   "cell_type": "code",
   "execution_count": null,
   "id": "5fd43a5d-9a29-429e-ba88-b8380096b9f1",
   "metadata": {},
   "outputs": [],
   "source": [
    "!pip install docling==2.36.1"
   ]
  },
  {
   "cell_type": "markdown",
   "id": "19ee2233-6eeb-4bb7-809a-1e6d8ddd7ba6",
   "metadata": {},
   "source": [
    "## 驗證安裝成功\n",
    "\n",
    "確認 **docling CLI** 已成功安裝並檢查版本號。\n"
   ]
  },
  {
   "cell_type": "code",
   "execution_count": null,
   "id": "9fae5ce7-f9a1-4c9f-a046-1af3c6b96748",
   "metadata": {},
   "outputs": [],
   "source": [
    "!docling --version"
   ]
  },
  {
   "cell_type": "code",
   "execution_count": null,
   "id": "9117b06d-9415-4c01-b818-a9e42ceebf9d",
   "metadata": {},
   "outputs": [],
   "source": []
  }
 ],
 "metadata": {
  "kernelspec": {
   "display_name": "Python 3 (ipykernel)",
   "language": "python",
   "name": "python3"
  },
  "language_info": {
   "codemirror_mode": {
    "name": "ipython",
    "version": 3
   },
   "file_extension": ".py",
   "mimetype": "text/x-python",
   "name": "python",
   "nbconvert_exporter": "python",
   "pygments_lexer": "ipython3",
   "version": "3.13.7"
  }
 },
 "nbformat": 4,
 "nbformat_minor": 5
}
